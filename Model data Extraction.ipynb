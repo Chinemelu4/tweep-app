{
 "cells": [
  {
   "cell_type": "code",
   "execution_count": null,
   "id": "ee432def",
   "metadata": {},
   "outputs": [],
   "source": [
    "!pip install tweepy"
   ]
  },
  {
   "cell_type": "code",
   "execution_count": null,
   "id": "c6fadca1",
   "metadata": {},
   "outputs": [],
   "source": [
    "import pandas as pd \n",
    "import pickle\n",
    "import time\n",
    "import tweepy\n",
    "from sklearn.model_selection import train_test_split\n",
    "\n",
    "consumer_key = **************************\n",
    "consumer_secret = **************************\n",
    "access_key = **************************\n",
    "access_secret = **************************\n",
    "\n",
    "auth = tweepy.OAuthHandler(consumer_key, consumer_secret)\n",
    "auth.set_access_token(access_key, access_secret)\n",
    "api = tweepy.API(auth)"
   ]
  },
  {
   "cell_type": "code",
   "execution_count": null,
   "id": "8fe66a02",
   "metadata": {},
   "outputs": [],
   "source": [
    "geocode = '9.0078,8.6775,1000mi' #logitude and latitude of Nigeria, with a 100"
   ]
  },
  {
   "cell_type": "code",
   "execution_count": null,
   "id": "f5a20585",
   "metadata": {},
   "outputs": [],
   "source": [
    "def limitHandled(cursor):\n",
    "    if True:\n",
    "        try:\n",
    "            yield cursor.next()\n",
    "        except tweepy.TweepyException:\n",
    "            time.sleep(15 * 60)\n",
    "\n",
    "\n",
    "    topics = ['politics','sports','entertainment','funny','lifestyle','car','travel','business','food','relationship','religion','love','fashion']\n",
    "\n",
    "    if __name__ == '__main__': \n",
    "        for topic in topics: \n",
    "            users = {}\n",
    "            for tweet in limitHandled(tweepy.Cursor(api.search_tweets, q=(topic), count=1000, lang='en',geocode=geocode).items(5000)):\n",
    "                print(tweet.user.name)\n",
    "                print(tweet.text)\n",
    "                if tweet.user.id in users:\n",
    "                    users[tweet.user.id].append(tweet.text)  \n",
    "                else:\n",
    "                    users[tweet.user.id] = []\n",
    "                    users[tweet.user.id].append(tweet.text)\n",
    "            fileName = topic + '_train_data.data'\n",
    "            userTweets = open(fileName,'ab+')\n",
    "            pickle.dump(users,userTweets)\n",
    "            userTweets.close()"
   ]
  }
 ],
 "metadata": {
  "kernelspec": {
   "display_name": "Python 3 (ipykernel)",
   "language": "python",
   "name": "python3"
  },
  "language_info": {
   "codemirror_mode": {
    "name": "ipython",
    "version": 3
   },
   "file_extension": ".py",
   "mimetype": "text/x-python",
   "name": "python",
   "nbconvert_exporter": "python",
   "pygments_lexer": "ipython3",
   "version": "3.9.7"
  }
 },
 "nbformat": 4,
 "nbformat_minor": 5
}
